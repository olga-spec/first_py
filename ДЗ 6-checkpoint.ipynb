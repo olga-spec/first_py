{
 "cells": [
  {
   "cell_type": "code",
   "execution_count": 1,
   "id": "9fd44fc8-d616-4aec-962d-15166bb8293d",
   "metadata": {},
   "outputs": [],
   "source": [
    "from random import *"
   ]
  },
  {
   "cell_type": "code",
   "execution_count": null,
   "id": "c1f9b03f-4deb-4c20-95d6-da44db0af893",
   "metadata": {},
   "outputs": [],
   "source": [
    "'''1. Напишите программу, которая генерирует случайное число от 1 до 100, а затем предлагает пользователю угадать это число. Если пользователь угадывает число, программа выводит сообщение о победе. Если пользователь не угадывает число, программа сообщает, больше или меньше загаданное число и предлагает попробовать снова. Используйте цикл с инструкцией break, чтобы остановить выполнение цикла, когда число угадано.\n",
    "\n",
    "\n",
    "Пример вывода:\n",
    "\n",
    "\n",
    "Угадайте число от 1 до 100: 50\n",
    "\n",
    "Загаданное число меньше.\n",
    "\n",
    "Попробуйте снова: 75\n",
    "\n",
    "Загаданное число больше.\n",
    "\n",
    "Попробуйте снова: 63\n",
    "\n",
    "Поздравляю! Вы угадали число 63!'''\n",
    "\n",
    "'''x = randint(1,100)\n",
    "print (x)\n",
    "\n",
    "y = int(input('Угадай число от 1 до 100 -'))\n",
    "\n",
    "#while x < y:\n",
    "    print ('Загаданное чило меньше, чем введенное Вами')\n",
    "    if x > y:\n",
    "        print ('Загаданное чило больше, чем введенное Вами')\n",
    "        if x == y:\n",
    "            break\n",
    "            print ('Поздравляем, вы угадали число')'''"
   ]
  },
  {
   "cell_type": "code",
   "execution_count": 19,
   "id": "e30635c1-ade6-487e-875f-037003e8b384",
   "metadata": {},
   "outputs": [
    {
     "name": "stdout",
     "output_type": "stream",
     "text": [
      "51\n"
     ]
    },
    {
     "name": "stdin",
     "output_type": "stream",
     "text": [
      "Угадай число от 1 до 100:  5\n"
     ]
    },
    {
     "name": "stdout",
     "output_type": "stream",
     "text": [
      "Загаданное число больше, чем введенное вами.\n"
     ]
    },
    {
     "name": "stdin",
     "output_type": "stream",
     "text": [
      "Попробуй еще 55\n"
     ]
    },
    {
     "name": "stdout",
     "output_type": "stream",
     "text": [
      "Загаданное число меньше, чем введенное вами.\n"
     ]
    },
    {
     "name": "stdin",
     "output_type": "stream",
     "text": [
      "Попробуй еще 51\n"
     ]
    },
    {
     "name": "stdout",
     "output_type": "stream",
     "text": [
      "Поздравляем, вы угадали число!\n"
     ]
    }
   ],
   "source": [
    "x = randint(1, 100)\n",
    "print(x) #\n",
    "y = int(input('Угадай число от 1 до 100: '))\n",
    "while True:\n",
    "    if x < y:\n",
    "        print('Загаданное число меньше, чем введенное вами.')\n",
    "        y = int(input('Попробуй еще'))\n",
    "    elif x > y:\n",
    "        print('Загаданное число больше, чем введенное вами.')\n",
    "        y = int(input('Попробуй еще'))\n",
    "    elif x == y:\n",
    "        print('Поздравляем, вы угадали число!')\n",
    "        break"
   ]
  },
  {
   "cell_type": "code",
   "execution_count": 20,
   "id": "45145964-9353-42af-b054-d826eedb0af5",
   "metadata": {},
   "outputs": [
    {
     "name": "stdin",
     "output_type": "stream",
     "text": [
      "Введите число:  10\n"
     ]
    },
    {
     "name": "stdout",
     "output_type": "stream",
     "text": [
      "0 1 1 2 3 5 8 13 21 34 "
     ]
    }
   ],
   "source": [
    "'''2. Напишите программу, которая запрашивает у пользователя число N и выводит первые N чисел Фибоначчи. Числа Фибоначчи - это последовательность чисел, где каждое следующее число является суммой двух предыдущих чисел (начиная с 0 и 1). Используйте цикл while для решения задачи. Выведите числа через запятую с помощью команды print.\n",
    "\n",
    "\n",
    "Пример вывода:\n",
    "\n",
    "\n",
    "Введите число N: 7\n",
    "\n",
    "\n",
    "Первые 7 чисел Фибоначчи: 0, 1, 1, 2, 3, 5, 8'''\n",
    "\n",
    "n = int(input('Введите число: '))\n",
    "a = 0\n",
    "b = 1\n",
    "count = 0\n",
    "\n",
    "while count < n:\n",
    "    print(a, end=' ')\n",
    "    a, b = b, a + b\n",
    "    count += 1"
   ]
  },
  {
   "cell_type": "code",
   "execution_count": 31,
   "id": "5fb98fce-d338-473c-833e-1e55baf83cf7",
   "metadata": {},
   "outputs": [
    {
     "name": "stdin",
     "output_type": "stream",
     "text": [
      "Введите целое положительное число:  1\n"
     ]
    },
    {
     "name": "stdout",
     "output_type": "stream",
     "text": [
      "Введите другое число, Вы ввели 0, отрицательное число или 1\n"
     ]
    }
   ],
   "source": [
    "'''3. Напишите программу, которая запрашивает у пользователя целое положительное число и проверяет, является ли оно простым. Простое число - это число, которое делится только на 1 и на само себя без остатка. Используйте цикл while и проверку деления числа на все числа от 2 до N-1 для решения задачи. Выведите соответствующее сообщение на экран с помощью команды print.\n",
    "\n",
    "\n",
    "Пример вывода:\n",
    "\n",
    "\n",
    "Введите целое положительное число: 17\n",
    "\n",
    "\n",
    "Число 17 является простым.'''\n",
    "\n",
    "a = int(input('Введите целое положительное число: '))\n",
    "b = 2\n",
    "\n",
    "while b <= a:\n",
    "    if a > b:\n",
    "        if a % b == 0:\n",
    "            print(f'Число {a} не является простым')\n",
    "            break\n",
    "        b += 1\n",
    "    elif a == b:\n",
    "        print(f'Число {a} является простым')\n",
    "        break\n",
    "else:\n",
    "    print('Введите другое число, Вы ввели 0, отрицательное число или 1')"
   ]
  },
  {
   "cell_type": "code",
   "execution_count": null,
   "id": "07b31390-6bcb-4892-8925-2ac00dccaa1c",
   "metadata": {},
   "outputs": [],
   "source": []
  },
  {
   "cell_type": "code",
   "execution_count": null,
   "id": "18f79d1f-cd80-4d34-973e-997767bd41fa",
   "metadata": {},
   "outputs": [],
   "source": []
  },
  {
   "cell_type": "code",
   "execution_count": null,
   "id": "65cab613-3c80-45a7-8d5b-74b4f0eb578b",
   "metadata": {},
   "outputs": [],
   "source": []
  },
  {
   "cell_type": "code",
   "execution_count": null,
   "id": "798c8d3b-e812-405d-8dee-c7c561fe5317",
   "metadata": {},
   "outputs": [],
   "source": []
  }
 ],
 "metadata": {
  "kernelspec": {
   "display_name": "Python 3 (ipykernel)",
   "language": "python",
   "name": "python3"
  },
  "language_info": {
   "codemirror_mode": {
    "name": "ipython",
    "version": 3
   },
   "file_extension": ".py",
   "mimetype": "text/x-python",
   "name": "python",
   "nbconvert_exporter": "python",
   "pygments_lexer": "ipython3",
   "version": "3.12.0"
  }
 },
 "nbformat": 4,
 "nbformat_minor": 5
}
